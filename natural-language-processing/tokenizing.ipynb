{
 "cells": [
  {
   "cell_type": "code",
   "execution_count": 1,
   "id": "42c2f8ab",
   "metadata": {},
   "outputs": [],
   "source": [
    "import nltk\n",
    "\n",
    "# This example uses NLTK to showcase different types of tokenizing.\n",
    "# Tokenizing means splitting your text into smaller parts\n",
    "\n",
    "sentence = \"I wish to speak a word for Nature, for absolute freedom and wildness, as contrasted with a freedom and culture merely civil — to regard man as an inhabitant, or a part and parcel of Nature, rather than a member of society.\""
   ]
  },
  {
   "cell_type": "code",
   "execution_count": 2,
   "id": "fb1c12fe",
   "metadata": {},
   "outputs": [
    {
     "name": "stdout",
     "output_type": "stream",
     "text": [
      "['I cast my vote, perchance, as I think right; but I am not vitally concerned that that right should prevail.', 'I am willing to leave it to the majority.', 'Its obligation, therefore, never exceeds that of expediency.', 'Even voting for the right is doing nothing for it.']\n"
     ]
    }
   ],
   "source": [
    "# Tokenizing by sentences is a common entrypoint to other NLP tasks\n",
    "paragraph = \"I cast my vote, perchance, as I think right; but I am not vitally concerned that that right should prevail. I am willing to leave it to the majority. Its obligation, therefore, never exceeds that of expediency. Even voting for the right is doing nothing for it.\"\n",
    "print(list(nltk.tokenize.sent_tokenize(paragraph)))"
   ]
  },
  {
   "cell_type": "code",
   "execution_count": 3,
   "id": "cf62333d",
   "metadata": {
    "scrolled": true
   },
   "outputs": [
    {
     "name": "stdout",
     "output_type": "stream",
     "text": [
      "['I', 'wish', 'to', 'speak', 'a', 'word', 'for', 'Nature', ',', 'for', 'absolute', 'freedom', 'and', 'wildness', ',', 'as', 'contrasted', 'with', 'a', 'freedom', 'and', 'culture', 'merely', 'civil', '—', 'to', 'regard', 'man', 'as', 'an', 'inhabitant', ',', 'or', 'a', 'part', 'and', 'parcel', 'of', 'Nature', ',', 'rather', 'than', 'a', 'member', 'of', 'society', '.']\n"
     ]
    }
   ],
   "source": [
    "# Tokenizing by words helps when you need to get the general idea of words inside your sentence\n",
    "words = nltk.tokenize.word_tokenize(sentence)\n",
    "print(words)"
   ]
  },
  {
   "cell_type": "code",
   "execution_count": 4,
   "id": "0ad0e2b9",
   "metadata": {},
   "outputs": [
    {
     "name": "stdout",
     "output_type": "stream",
     "text": [
      "['I', 'wish', 'to', 'speak', 'a', 'word', 'for', 'Nature', ',', 'for', 'absolute', 'freedom', 'and', 'wildness', ',', 'as', 'contrasted', 'with', 'a', 'freedom', 'and', 'culture', 'merely', 'civil', '—', 'to', 'regard', 'man', 'as', 'an', 'inhabitant', ',', 'or', 'a', 'part', 'and', 'parcel', 'of', 'Nature', ',', 'rather', 'than', 'a', 'member', 'of', 'society', '.']\n"
     ]
    }
   ],
   "source": [
    "# Spans are useful when your content should be preserved with utmost accuracy\n",
    "spans = nltk.tokenize.TreebankWordTokenizer().span_tokenize(sentence)\n",
    "print([sentence[start_index:end_index] for start_index, end_index in spans])"
   ]
  }
 ],
 "metadata": {
  "kernelspec": {
   "display_name": "Python 3 (ipykernel)",
   "language": "python",
   "name": "python3"
  },
  "language_info": {
   "codemirror_mode": {
    "name": "ipython",
    "version": 3
   },
   "file_extension": ".py",
   "mimetype": "text/x-python",
   "name": "python",
   "nbconvert_exporter": "python",
   "pygments_lexer": "ipython3",
   "version": "3.10.12"
  }
 },
 "nbformat": 4,
 "nbformat_minor": 5
}
