{
 "cells": [
  {
   "cell_type": "code",
   "execution_count": 1,
   "id": "94c7f49f",
   "metadata": {},
   "outputs": [],
   "source": [
    "from nltk.corpus import names\n",
    "from nltk import NaiveBayesClassifier\n",
    "import random\n",
    "from pprint import pprint\n",
    "from nltk.classify import apply_features\n",
    "\n",
    "# This example uses Naive Bayes approach to classify names by gender.\n",
    "# Note that “gender” here is a biological gender (XX or XY chromosomes)."
   ]
  },
  {
   "cell_type": "code",
   "execution_count": 2,
   "id": "b4742e68",
   "metadata": {},
   "outputs": [
    {
     "name": "stdout",
     "output_type": "stream",
     "text": [
      "[('Chrissie', 'female'),\n",
      " ('Olva', 'female'),\n",
      " ('Kiersten', 'female'),\n",
      " ('Lara', 'female'),\n",
      " ('Jammie', 'female'),\n",
      " ('Louella', 'female'),\n",
      " ('Jordain', 'female'),\n",
      " ('Garfield', 'male'),\n",
      " ('Belinda', 'female'),\n",
      " ('Gusti', 'female')]\n"
     ]
    }
   ],
   "source": [
    "# Initial data input\n",
    "\n",
    "labeled_names = (\n",
    "    [(name, 'female') for name in names.words('female.txt')] \n",
    "    + [(name, 'male') for name in names.words('male.txt')]\n",
    ")\n",
    "random.shuffle(labeled_names)\n",
    "\n",
    "pprint(labeled_names[:10])"
   ]
  },
  {
   "cell_type": "code",
   "execution_count": 3,
   "id": "77968c61",
   "metadata": {},
   "outputs": [
    {
     "name": "stdout",
     "output_type": "stream",
     "text": [
      "Featuresets:\n",
      "[({'last_1': 'e', 'last_2': 'ie'}, 'female'),\n",
      " ({'last_1': 'a', 'last_2': 'va'}, 'female'),\n",
      " ({'last_1': 'n', 'last_2': 'en'}, 'female'),\n",
      " ({'last_1': 'a', 'last_2': 'ra'}, 'female'),\n",
      " ({'last_1': 'e', 'last_2': 'ie'}, 'female'),\n",
      " ({'last_1': 'a', 'last_2': 'la'}, 'female'),\n",
      " ({'last_1': 'n', 'last_2': 'in'}, 'female'),\n",
      " ({'last_1': 'd', 'last_2': 'ld'}, 'male'),\n",
      " ({'last_1': 'a', 'last_2': 'da'}, 'female'),\n",
      " ({'last_1': 'i', 'last_2': 'ti'}, 'female')]\n",
      "\n",
      "Train featureset:\n",
      "[({'last_1': 'e', 'last_2': 'ie'}, 'female'), ({'last_1': 'a', 'last_2': 'va'}, 'female'), ...]\n",
      "\n",
      "Test featureset:\n",
      "[({'last_1': 's', 'last_2': 'es'}, 'male'), ({'last_1': 'a', 'last_2': 'ia'}, 'female'), ...]\n",
      "\n"
     ]
    }
   ],
   "source": [
    "# Prepare data for training\n",
    "\n",
    "def extract_features(name):\n",
    "    return {\"last_1\": name[-1], \"last_2\": name[-2:]}\n",
    "\n",
    "featuresets = [(extract_features(name), gender) for (name, gender) in labeled_names]\n",
    "print(\"Featuresets:\")\n",
    "pprint(featuresets[:10])\n",
    "print()\n",
    "\n",
    "split_index = round(len(featuresets) * .8)\n",
    "train_names, test_names = labeled_names[:split_index], labeled_names[split_index:]\n",
    "train_featureset = apply_features(extract_features, labeled_names[:split_index:])\n",
    "test_featureset = apply_features(extract_features, labeled_names[split_index:])\n",
    "\n",
    "print(\"Train featureset:\")\n",
    "pprint(train_featureset[:10])\n",
    "print()\n",
    "\n",
    "print(\"Test featureset:\")\n",
    "pprint(test_featureset[:10])\n",
    "print()"
   ]
  },
  {
   "cell_type": "code",
   "execution_count": 4,
   "id": "1609e10b",
   "metadata": {},
   "outputs": [
    {
     "name": "stdout",
     "output_type": "stream",
     "text": [
      "Most Informative Features\n",
      "                  last_2 = 'na'           female : male   =     86.3 : 1.0\n",
      "                  last_2 = 'ia'           female : male   =     79.1 : 1.0\n",
      "                  last_2 = 'la'           female : male   =     61.7 : 1.0\n",
      "                  last_2 = 'rd'             male : female =     39.2 : 1.0\n",
      "                  last_1 = 'a'            female : male   =     34.3 : 1.0\n",
      "                  last_2 = 'ra'           female : male   =     33.4 : 1.0\n",
      "                  last_2 = 'sa'           female : male   =     33.4 : 1.0\n",
      "                  last_2 = 'us'             male : female =     31.9 : 1.0\n",
      "                  last_1 = 'k'              male : female =     28.6 : 1.0\n",
      "                  last_2 = 'ta'           female : male   =     21.0 : 1.0\n"
     ]
    }
   ],
   "source": [
    "# Train classifier\n",
    "classifier = NaiveBayesClassifier.train(train_featureset)\n",
    "classifier.show_most_informative_features(10)"
   ]
  },
  {
   "cell_type": "code",
   "execution_count": 5,
   "id": "35aee78e",
   "metadata": {},
   "outputs": [
    {
     "name": "stdout",
     "output_type": "stream",
     "text": [
      "Bobert => male\n",
      "Boberta => female\n",
      "Bober => male\n",
      "Boberia => female\n"
     ]
    }
   ],
   "source": [
    "# Run examples\n",
    "\n",
    "for name in [\"Bobert\", \"Boberta\", \"Bober\", \"Boberia\"]:\n",
    "    prediction = classifier.classify(extract_features(name))\n",
    "    print(f\"{name} => {prediction}\")\n",
    "    "
   ]
  },
  {
   "cell_type": "code",
   "execution_count": null,
   "id": "0c13f71a",
   "metadata": {},
   "outputs": [],
   "source": []
  }
 ],
 "metadata": {
  "kernelspec": {
   "display_name": "Python 3 (ipykernel)",
   "language": "python",
   "name": "python3"
  },
  "language_info": {
   "codemirror_mode": {
    "name": "ipython",
    "version": 3
   },
   "file_extension": ".py",
   "mimetype": "text/x-python",
   "name": "python",
   "nbconvert_exporter": "python",
   "pygments_lexer": "ipython3",
   "version": "3.10.12"
  }
 },
 "nbformat": 4,
 "nbformat_minor": 5
}
